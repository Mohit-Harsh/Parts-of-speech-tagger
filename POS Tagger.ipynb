{
 "cells": [
  {
   "cell_type": "code",
   "execution_count": 1,
   "id": "3bfb7863",
   "metadata": {},
   "outputs": [],
   "source": [
    "import pandas as pd\n",
    "import numpy as np\n",
    "import nltk\n",
    "import tensorflow as tf\n",
    "import tensorflow_text as text\n",
    "import tensorflow_hub as hub\n",
    "import tkinter as tk"
   ]
  },
  {
   "cell_type": "markdown",
   "id": "f09a32d0",
   "metadata": {},
   "source": [
    "#### Download the following Corpus - treebank, brown, conll2000"
   ]
  },
  {
   "cell_type": "code",
   "execution_count": 2,
   "id": "a185fe22",
   "metadata": {},
   "outputs": [
    {
     "name": "stderr",
     "output_type": "stream",
     "text": [
      "[nltk_data] Downloading package treebank to\n",
      "[nltk_data]     C:\\Users\\D\\AppData\\Roaming\\nltk_data...\n",
      "[nltk_data]   Package treebank is already up-to-date!\n",
      "[nltk_data] Downloading package brown to\n",
      "[nltk_data]     C:\\Users\\D\\AppData\\Roaming\\nltk_data...\n",
      "[nltk_data]   Package brown is already up-to-date!\n",
      "[nltk_data] Downloading package conll2000 to\n",
      "[nltk_data]     C:\\Users\\D\\AppData\\Roaming\\nltk_data...\n",
      "[nltk_data]   Package conll2000 is already up-to-date!\n"
     ]
    },
    {
     "data": {
      "text/plain": [
       "True"
      ]
     },
     "execution_count": 2,
     "metadata": {},
     "output_type": "execute_result"
    }
   ],
   "source": [
    "nltk.download('treebank')\n",
    "nltk.download('brown')\n",
    "nltk.download('conll2000')"
   ]
  },
  {
   "cell_type": "code",
   "execution_count": 3,
   "id": "d29d5554",
   "metadata": {},
   "outputs": [
    {
     "name": "stderr",
     "output_type": "stream",
     "text": [
      "[nltk_data] Downloading package universal_tagset to\n",
      "[nltk_data]     C:\\Users\\D\\AppData\\Roaming\\nltk_data...\n",
      "[nltk_data]   Package universal_tagset is already up-to-date!\n"
     ]
    },
    {
     "data": {
      "text/plain": [
       "True"
      ]
     },
     "execution_count": 3,
     "metadata": {},
     "output_type": "execute_result"
    }
   ],
   "source": [
    "nltk.download('universal_tagset')"
   ]
  },
  {
   "cell_type": "code",
   "execution_count": 4,
   "id": "fd7da243",
   "metadata": {},
   "outputs": [],
   "source": [
    "from nltk.corpus import treebank,brown,conll2000"
   ]
  },
  {
   "cell_type": "code",
   "execution_count": 5,
   "id": "1d731484",
   "metadata": {},
   "outputs": [],
   "source": [
    "tagged_sents = treebank.tagged_sents(tagset='universal')+brown.tagged_sents(tagset='universal')+conll2000.tagged_sents(tagset='universal')"
   ]
  },
  {
   "cell_type": "code",
   "execution_count": 6,
   "id": "9b2cee41",
   "metadata": {},
   "outputs": [
    {
     "name": "stdout",
     "output_type": "stream",
     "text": [
      "Dataset Size : 72202\n",
      "\n",
      "Example : [('Neither', 'DET'), ('Lorillard', 'NOUN'), ('nor', 'CONJ'), ('the', 'DET'), ('researchers', 'NOUN'), ('who', 'PRON'), ('*T*-3', 'X'), ('studied', 'VERB'), ('the', 'DET'), ('workers', 'NOUN'), ('were', 'VERB'), ('aware', 'ADJ'), ('of', 'ADP'), ('any', 'DET'), ('research', 'NOUN'), ('on', 'ADP'), ('smokers', 'NOUN'), ('of', 'ADP'), ('the', 'DET'), ('Kent', 'NOUN'), ('cigarettes', 'NOUN'), ('.', '.')]\n"
     ]
    }
   ],
   "source": [
    "print(f\"Dataset Size : {len(tagged_sents)}\\n\")\n",
    "print(f\"Example : {tagged_sents[10]}\")"
   ]
  },
  {
   "cell_type": "code",
   "execution_count": 7,
   "id": "f6a0382f",
   "metadata": {},
   "outputs": [],
   "source": [
    "sentences,tags=[],[]\n",
    "\n",
    "for s in tagged_sents:\n",
    "    \n",
    "    sentence,tag = zip(*s)\n",
    "    sentences.append(list(sentence))\n",
    "    tags.append(list(tag))"
   ]
  },
  {
   "cell_type": "code",
   "execution_count": 8,
   "id": "572e249b",
   "metadata": {},
   "outputs": [
    {
     "data": {
      "text/plain": [
       "(72202, 72202)"
      ]
     },
     "execution_count": 8,
     "metadata": {},
     "output_type": "execute_result"
    }
   ],
   "source": [
    "len(sentences),len(tags)"
   ]
  },
  {
   "cell_type": "code",
   "execution_count": 9,
   "id": "bbe07ab4",
   "metadata": {},
   "outputs": [],
   "source": [
    "from sklearn.model_selection import train_test_split"
   ]
  },
  {
   "cell_type": "code",
   "execution_count": 10,
   "id": "a4d44fb1",
   "metadata": {},
   "outputs": [],
   "source": [
    "train_ratio = 0.75\n",
    "test_ratio = 0.15\n",
    "val_ratio = 0.10\n",
    "\n",
    "x_train, x_test, y_train, y_test = train_test_split(sentences, tags, test_size=1-train_ratio, random_state=42)\n",
    "\n",
    "x_val,x_test,y_val,y_test = train_test_split(x_test, y_test, test_size=test_ratio/(test_ratio+val_ratio), random_state=42)"
   ]
  },
  {
   "cell_type": "code",
   "execution_count": 11,
   "id": "8f1a218c",
   "metadata": {},
   "outputs": [
    {
     "name": "stdout",
     "output_type": "stream",
     "text": [
      "x_train size : 54151, y_train size : 54151\n",
      "x_test size : 10831, y_test size : 10831\n",
      "x_val size : 7220, y_val size : 7220\n"
     ]
    }
   ],
   "source": [
    "print(f\"x_train size : {len(x_train)}, y_train size : {len(y_train)}\")\n",
    "print(f\"x_test size : {len(x_test)}, y_test size : {len(y_test)}\")\n",
    "print(f\"x_val size : {len(x_val)}, y_val size : {len(y_val)}\")"
   ]
  },
  {
   "cell_type": "code",
   "execution_count": 12,
   "id": "193a80d0",
   "metadata": {},
   "outputs": [],
   "source": [
    "sentence_tokenizer = tf.keras.preprocessing.text.Tokenizer(oov_token=\"<OOV>\")"
   ]
  },
  {
   "cell_type": "code",
   "execution_count": 13,
   "id": "4e2a112f",
   "metadata": {},
   "outputs": [],
   "source": [
    "sentence_tokenizer.fit_on_texts(x_train)"
   ]
  },
  {
   "cell_type": "code",
   "execution_count": 14,
   "id": "0cc10abf",
   "metadata": {},
   "outputs": [
    {
     "name": "stdout",
     "output_type": "stream",
     "text": [
      "Text : ['And', 'she', 'replied', ',', '``', 'I', 'was', 'born', 'in', 'America', ',', 'but', 'I', 'was', 'conceived', 'in', 'Vienna', \"''\", '.'] \n",
      "Seq : [6, 55, 2359, 3, 13, 30, 14, 1193, 9, 502, 3, 31, 30, 14, 4467, 9, 7376, 15, 4]\n"
     ]
    }
   ],
   "source": [
    "x_train_seqs = sentence_tokenizer.texts_to_sequences(x_train)\n",
    "print(f\"Text : {x_train[5]} \\nSeq : {x_train_seqs[5]}\")"
   ]
  },
  {
   "cell_type": "code",
   "execution_count": 15,
   "id": "85cc1a8f",
   "metadata": {},
   "outputs": [
    {
     "name": "stdout",
     "output_type": "stream",
     "text": [
      "Seq : [6, 55, 2359, 3, 13, 30, 14, 1193, 9, 502, 3, 31, 30, 14, 4467, 9, 7376, 15, 4] \n",
      "Text : and she replied , `` i was born in america , but i was conceived in vienna '' .\n"
     ]
    }
   ],
   "source": [
    "print(f\"Seq : {x_train_seqs[5]} \\nText : {sentence_tokenizer.sequences_to_texts(x_train_seqs)[5]}\")"
   ]
  },
  {
   "cell_type": "code",
   "execution_count": 16,
   "id": "28591e96",
   "metadata": {},
   "outputs": [
    {
     "data": {
      "text/plain": [
       "{'noun': 1,\n",
       " 'verb': 2,\n",
       " '.': 3,\n",
       " 'adp': 4,\n",
       " 'det': 5,\n",
       " 'adj': 6,\n",
       " 'adv': 7,\n",
       " 'pron': 8,\n",
       " 'conj': 9,\n",
       " 'prt': 10,\n",
       " 'num': 11,\n",
       " 'x': 12}"
      ]
     },
     "execution_count": 16,
     "metadata": {},
     "output_type": "execute_result"
    }
   ],
   "source": [
    "tag_tokenizer = tf.keras.preprocessing.text.Tokenizer()\n",
    "tag_tokenizer.fit_on_texts(y_train)\n",
    "tag_tokenizer.word_index"
   ]
  },
  {
   "cell_type": "code",
   "execution_count": 17,
   "id": "a3e5762e",
   "metadata": {},
   "outputs": [
    {
     "name": "stdout",
     "output_type": "stream",
     "text": [
      "Text : ['CONJ', 'PRON', 'VERB', '.', '.', 'PRON', 'VERB', 'VERB', 'ADP', 'NOUN', '.', 'CONJ', 'PRON', 'VERB', 'VERB', 'ADP', 'NOUN', '.', '.'] \n",
      "Seq : [9, 8, 2, 3, 3, 8, 2, 2, 4, 1, 3, 9, 8, 2, 2, 4, 1, 3, 3]\n"
     ]
    }
   ],
   "source": [
    "y_train_seqs = tag_tokenizer.texts_to_sequences(y_train)\n",
    "print(f\"Text : {y_train[5]} \\nSeq : {y_train_seqs[5]}\")"
   ]
  },
  {
   "cell_type": "code",
   "execution_count": 18,
   "id": "e808c8bd",
   "metadata": {},
   "outputs": [],
   "source": [
    "x_test_seqs = sentence_tokenizer.texts_to_sequences(x_test)\n",
    "y_test_seqs = tag_tokenizer.texts_to_sequences(y_test)\n",
    "\n",
    "x_val_seqs = sentence_tokenizer.texts_to_sequences(x_val)\n",
    "y_val_seqs = tag_tokenizer.texts_to_sequences(y_val)"
   ]
  },
  {
   "cell_type": "code",
   "execution_count": 19,
   "id": "066d3df3",
   "metadata": {},
   "outputs": [],
   "source": [
    "x_train_padded = tf.keras.preprocessing.sequence.pad_sequences(sequences=x_train_seqs,\n",
    "                                                               maxlen=271,\n",
    "                                                               padding='post',\n",
    "                                                               truncating='post')"
   ]
  },
  {
   "cell_type": "code",
   "execution_count": 20,
   "id": "c2cd0e91",
   "metadata": {},
   "outputs": [],
   "source": [
    "y_train_padded = tf.keras.preprocessing.sequence.pad_sequences(sequences=y_train_seqs,\n",
    "                                                               maxlen=271,\n",
    "                                                               padding='post',\n",
    "                                                               truncating='post')"
   ]
  },
  {
   "cell_type": "code",
   "execution_count": 21,
   "id": "85e5849f",
   "metadata": {},
   "outputs": [
    {
     "data": {
      "text/plain": [
       "array([[10,  2,  1, ...,  0,  0,  0],\n",
       "       [ 8,  2,  4, ...,  0,  0,  0],\n",
       "       [ 1,  1,  2, ...,  0,  0,  0],\n",
       "       [ 8,  2,  5, ...,  0,  0,  0],\n",
       "       [ 4,  5,  1, ...,  0,  0,  0]])"
      ]
     },
     "execution_count": 21,
     "metadata": {},
     "output_type": "execute_result"
    }
   ],
   "source": [
    "y_train_padded[:5]"
   ]
  },
  {
   "cell_type": "code",
   "execution_count": 22,
   "id": "06981674",
   "metadata": {},
   "outputs": [],
   "source": [
    "y_test_padded = tf.keras.preprocessing.sequence.pad_sequences(sequences=y_test_seqs,\n",
    "                                                               maxlen=271,\n",
    "                                                               padding='post',\n",
    "                                                               truncating='post')\n",
    "\n",
    "y_val_padded = tf.keras.preprocessing.sequence.pad_sequences(sequences=y_val_seqs,\n",
    "                                                               maxlen=271,\n",
    "                                                               padding='post',\n",
    "                                                               truncating='post')\n",
    "\n",
    "x_test_padded = tf.keras.preprocessing.sequence.pad_sequences(sequences=x_test_seqs,\n",
    "                                                               maxlen=271,\n",
    "                                                               padding='post',\n",
    "                                                               truncating='post')\n",
    "\n",
    "x_val_padded = tf.keras.preprocessing.sequence.pad_sequences(sequences=x_val_seqs,\n",
    "                                                               maxlen=271,\n",
    "                                                               padding='post',\n",
    "                                                               truncating='post')"
   ]
  },
  {
   "cell_type": "code",
   "execution_count": 23,
   "id": "e42c5fb1",
   "metadata": {},
   "outputs": [
    {
     "data": {
      "text/plain": [
       "(271, 271, 271)"
      ]
     },
     "execution_count": 23,
     "metadata": {},
     "output_type": "execute_result"
    }
   ],
   "source": [
    "len(x_train_padded[10]),len(x_test_padded[10]),len(x_val_padded[10])"
   ]
  },
  {
   "cell_type": "code",
   "execution_count": 24,
   "id": "65d6d87b",
   "metadata": {},
   "outputs": [
    {
     "data": {
      "text/plain": [
       "(271, 271, 271)"
      ]
     },
     "execution_count": 24,
     "metadata": {},
     "output_type": "execute_result"
    }
   ],
   "source": [
    "len(y_train_padded[10]),len(y_test_padded[10]),len(y_val_padded[10])"
   ]
  },
  {
   "cell_type": "code",
   "execution_count": 25,
   "id": "9071678c",
   "metadata": {},
   "outputs": [],
   "source": [
    "y_train_cat = tf.keras.utils.to_categorical(y_train_padded)\n",
    "y_test_cat = tf.keras.utils.to_categorical(y_test_padded)\n",
    "y_val_cat = tf.keras.utils.to_categorical(y_val_padded)"
   ]
  },
  {
   "cell_type": "code",
   "execution_count": 26,
   "id": "80470b73",
   "metadata": {},
   "outputs": [],
   "source": [
    "num_tokens = len(sentence_tokenizer.word_index) + 1\n",
    "num_classes = len(tag_tokenizer.word_index) + 1"
   ]
  },
  {
   "cell_type": "code",
   "execution_count": 27,
   "id": "7ffaf96a",
   "metadata": {},
   "outputs": [
    {
     "data": {
      "text/plain": [
       "(51891, 13)"
      ]
     },
     "execution_count": 27,
     "metadata": {},
     "output_type": "execute_result"
    }
   ],
   "source": [
    "num_tokens,num_classes"
   ]
  },
  {
   "cell_type": "code",
   "execution_count": 28,
   "id": "04f747c1",
   "metadata": {},
   "outputs": [],
   "source": [
    "from tensorflow.keras import layers"
   ]
  },
  {
   "cell_type": "code",
   "execution_count": 29,
   "id": "3eb6eefd",
   "metadata": {},
   "outputs": [],
   "source": [
    "model = tf.keras.Sequential()\n",
    "model.add(layers.Embedding(input_dim=num_tokens,output_dim=128,input_length=271,mask_zero=True))\n",
    "model.add(layers.Bidirectional(layers.LSTM(128,return_sequences=True,)))\n",
    "model.add(layers.Dense(num_classes,activation='softmax'))"
   ]
  },
  {
   "cell_type": "code",
   "execution_count": 30,
   "id": "b89c59bd",
   "metadata": {},
   "outputs": [],
   "source": [
    "model.compile(optimizer='Adam',loss='categorical_crossentropy',metrics=['accuracy'])"
   ]
  },
  {
   "cell_type": "code",
   "execution_count": 31,
   "id": "af9ecb1a",
   "metadata": {},
   "outputs": [
    {
     "name": "stdout",
     "output_type": "stream",
     "text": [
      "Epoch 1/5\n",
      "1693/1693 [==============================] - 36s 18ms/step - loss: 0.0194 - accuracy: 0.9210 - val_loss: 0.0078 - val_accuracy: 0.9657\n",
      "Epoch 2/5\n",
      "1693/1693 [==============================] - 30s 17ms/step - loss: 0.0049 - accuracy: 0.9790 - val_loss: 0.0067 - val_accuracy: 0.9711\n",
      "Epoch 3/5\n",
      "1693/1693 [==============================] - 30s 17ms/step - loss: 0.0033 - accuracy: 0.9859 - val_loss: 0.0065 - val_accuracy: 0.9730\n",
      "Epoch 4/5\n",
      "1693/1693 [==============================] - 30s 17ms/step - loss: 0.0024 - accuracy: 0.9898 - val_loss: 0.0069 - val_accuracy: 0.9727\n",
      "Epoch 5/5\n",
      "1693/1693 [==============================] - 29s 17ms/step - loss: 0.0017 - accuracy: 0.9927 - val_loss: 0.0075 - val_accuracy: 0.9724\n"
     ]
    },
    {
     "data": {
      "text/plain": [
       "<keras.callbacks.History at 0x221d289d910>"
      ]
     },
     "execution_count": 31,
     "metadata": {},
     "output_type": "execute_result"
    }
   ],
   "source": [
    "es = tf.keras.callbacks.EarlyStopping(monitor='val_loss',patience=2)\n",
    "model.fit(x_train_padded,y_train_cat,epochs=5,validation_data=(x_val_padded,y_val_cat),callbacks=[es])"
   ]
  },
  {
   "cell_type": "code",
   "execution_count": 46,
   "id": "cce7af1b",
   "metadata": {},
   "outputs": [
    {
     "name": "stdout",
     "output_type": "stream",
     "text": [
      "1/1 [==============================] - 0s 26ms/step\n"
     ]
    }
   ],
   "source": [
    "res = model.predict(x_test_padded[0].reshape(1,-1))"
   ]
  },
  {
   "cell_type": "code",
   "execution_count": 53,
   "id": "0d21841b-7cde-4aa1-8fcc-e80c69efd987",
   "metadata": {},
   "outputs": [
    {
     "data": {
      "text/plain": [
       "[4, 6, 1, 8, 2, 10, 3, 11, 9, 6, 1, 4, 3, 11, 9, 1, 1, 6, 1, 3]"
      ]
     },
     "execution_count": 53,
     "metadata": {},
     "output_type": "execute_result"
    }
   ],
   "source": [
    "[np.argmax(x) for x in res[-1][:len(x_test[0])]]"
   ]
  },
  {
   "cell_type": "code",
   "execution_count": 50,
   "id": "b6ece2c8-408f-46a3-99b6-2460c35dfa47",
   "metadata": {},
   "outputs": [],
   "source": [
    "import pickle"
   ]
  },
  {
   "cell_type": "code",
   "execution_count": 51,
   "id": "29366771",
   "metadata": {},
   "outputs": [],
   "source": [
    "tf.keras.models.save_model(model,'pos_predictor.keras')\n",
    "with open('tokenizer.pickle','wb') as file:\n",
    "    pickle.dump(sentence_tokenizer,file)"
   ]
  },
  {
   "cell_type": "code",
   "execution_count": null,
   "id": "821bb492-9f79-4ab3-bdbd-0e30098784cf",
   "metadata": {},
   "outputs": [],
   "source": []
  }
 ],
 "metadata": {
  "kernelspec": {
   "display_name": "Python 3 (ipykernel)",
   "language": "python",
   "name": "python3"
  },
  "language_info": {
   "codemirror_mode": {
    "name": "ipython",
    "version": 3
   },
   "file_extension": ".py",
   "mimetype": "text/x-python",
   "name": "python",
   "nbconvert_exporter": "python",
   "pygments_lexer": "ipython3",
   "version": "3.9.18"
  }
 },
 "nbformat": 4,
 "nbformat_minor": 5
}
