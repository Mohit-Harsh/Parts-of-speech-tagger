{
 "cells": [
  {
   "cell_type": "code",
   "execution_count": 1,
   "id": "bec50e26-e735-4985-ba85-8ce3128f4c9a",
   "metadata": {},
   "outputs": [],
   "source": [
    "import pandas as pd\n",
    "import json\n",
    "import numpy as np\n",
    "import tensorflow as tf\n",
    "from tensorflow import keras\n",
    "import pickle"
   ]
  },
  {
   "cell_type": "code",
   "execution_count": 2,
   "id": "64fbed59-6f04-4df6-a545-c51a3d40ee86",
   "metadata": {},
   "outputs": [],
   "source": [
    "with open('pos_tags.json','r') as file:\n",
    "    tags = json.load(file)"
   ]
  },
  {
   "cell_type": "code",
   "execution_count": 3,
   "id": "e404dcff-758b-4abb-b9c2-c3063ba2d938",
   "metadata": {},
   "outputs": [
    {
     "data": {
      "text/plain": [
       "{'1': 'noun',\n",
       " '2': 'verb',\n",
       " '3': '.',\n",
       " '4': 'adp',\n",
       " '5': 'det',\n",
       " '6': 'adj',\n",
       " '7': 'adv',\n",
       " '8': 'pron',\n",
       " '9': 'conj',\n",
       " '10': 'prt',\n",
       " '11': 'num',\n",
       " '12': 'x'}"
      ]
     },
     "execution_count": 3,
     "metadata": {},
     "output_type": "execute_result"
    }
   ],
   "source": [
    "tags"
   ]
  },
  {
   "cell_type": "code",
   "execution_count": 4,
   "id": "ff300cea-75f5-44c9-8d80-e99668ce051b",
   "metadata": {},
   "outputs": [],
   "source": [
    "model = keras.models.load_model('pos_predictor.keras')"
   ]
  },
  {
   "cell_type": "code",
   "execution_count": 5,
   "id": "db694f0d-f166-4b30-be09-2038691dc368",
   "metadata": {},
   "outputs": [],
   "source": [
    "with open('tokenizer.pickle','rb') as file:\n",
    "    tokenizer = pickle.load(file)"
   ]
  },
  {
   "cell_type": "code",
   "execution_count": 26,
   "id": "4695cb24-a7e1-42c2-a3eb-5041c51c8c3e",
   "metadata": {},
   "outputs": [],
   "source": [
    "query = \"The most common way is to use either pickle or joblib.\"\n",
    "query_seq = tokenizer.texts_to_sequences([query])"
   ]
  },
  {
   "cell_type": "code",
   "execution_count": 27,
   "id": "f4a5f964-cdf9-45b2-a128-dc43807b06fc",
   "metadata": {},
   "outputs": [],
   "source": [
    "query_seq_padded = keras.preprocessing.sequence.pad_sequences(query_seq,maxlen=271,padding='post',truncating='post')"
   ]
  },
  {
   "cell_type": "code",
   "execution_count": 28,
   "id": "421dc408-1bc8-426a-bf06-1756919a3814",
   "metadata": {},
   "outputs": [
    {
     "name": "stdout",
     "output_type": "stream",
     "text": [
      "1/1 [==============================] - 0s 26ms/step\n"
     ]
    }
   ],
   "source": [
    "results = model.predict([query_seq_padded])"
   ]
  },
  {
   "cell_type": "code",
   "execution_count": 50,
   "id": "a3139dfe-518f-4f84-ba2f-a58905fd557e",
   "metadata": {},
   "outputs": [
    {
     "name": "stdout",
     "output_type": "stream",
     "text": [
      "the : det\n",
      "\n",
      "most : adv\n",
      "\n",
      "common : adj\n",
      "\n",
      "way : noun\n",
      "\n",
      "is : verb\n",
      "\n",
      "to : prt\n",
      "\n",
      "use : verb\n",
      "\n",
      "either : conj\n",
      "\n",
      "pickle : noun\n",
      "\n",
      "or : conj\n",
      "\n",
      "<OOV> : noun\n",
      "\n"
     ]
    }
   ],
   "source": [
    "for i in range(len(query_seq[0])):\n",
    "    token = tokenizer.sequences_to_texts([[query_seq[0][i]]])\n",
    "    tag = tags[str(np.argmax(results[-1][i]))]\n",
    "\n",
    "    print(f\"{token[0]} : {tag}\\n\")"
   ]
  },
  {
   "cell_type": "code",
   "execution_count": null,
   "id": "08946c8a-4c63-492a-a94b-63555cb40420",
   "metadata": {},
   "outputs": [],
   "source": []
  }
 ],
 "metadata": {
  "kernelspec": {
   "display_name": "Python 3 (ipykernel)",
   "language": "python",
   "name": "python3"
  },
  "language_info": {
   "codemirror_mode": {
    "name": "ipython",
    "version": 3
   },
   "file_extension": ".py",
   "mimetype": "text/x-python",
   "name": "python",
   "nbconvert_exporter": "python",
   "pygments_lexer": "ipython3",
   "version": "3.9.18"
  }
 },
 "nbformat": 4,
 "nbformat_minor": 5
}
